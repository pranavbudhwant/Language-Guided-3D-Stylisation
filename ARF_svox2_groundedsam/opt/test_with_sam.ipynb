{
 "cells": [
  {
   "cell_type": "code",
   "execution_count": 3,
   "metadata": {},
   "outputs": [],
   "source": [
    "import torch\n",
    "import numpy as np\n",
    "import os\n",
    "\n",
    "from infer_seg import load_images, get_transforms, get_models, inference"
   ]
  },
  {
   "cell_type": "code",
   "execution_count": 4,
   "metadata": {},
   "outputs": [
    {
     "name": "stdout",
     "output_type": "stream",
     "text": [
      "Original img size =  (4032, 3024)\n"
     ]
    },
    {
     "ename": "RuntimeError",
     "evalue": "Sizes of tensors must match except in dimension 2. Expected size 95 but got size 50 for tensor number 1 in the list.",
     "output_type": "error",
     "traceback": [
      "\u001b[0;31m---------------------------------------------------------------------------\u001b[0m",
      "\u001b[0;31mRuntimeError\u001b[0m                              Traceback (most recent call last)",
      "\u001b[1;32m/home/jingmin/ARF-svox2/opt/test_with_sam.ipynb 单元格 2\u001b[0m line \u001b[0;36m2\n\u001b[1;32m     <a href='vscode-notebook-cell://ssh-remote%2Brampage.usc.edu/home/jingmin/ARF-svox2/opt/test_with_sam.ipynb#W1sdnNjb2RlLXJlbW90ZQ%3D%3D?line=18'>19</a>\u001b[0m transforms \u001b[39m=\u001b[39m get_transforms(img_size)\n\u001b[1;32m     <a href='vscode-notebook-cell://ssh-remote%2Brampage.usc.edu/home/jingmin/ARF-svox2/opt/test_with_sam.ipynb#W1sdnNjb2RlLXJlbW90ZQ%3D%3D?line=19'>20</a>\u001b[0m obj_model, seg_model \u001b[39m=\u001b[39m get_models(detr_version, model_type, sam_checkpoint)\n\u001b[0;32m---> <a href='vscode-notebook-cell://ssh-remote%2Brampage.usc.edu/home/jingmin/ARF-svox2/opt/test_with_sam.ipynb#W1sdnNjb2RlLXJlbW90ZQ%3D%3D?line=21'>22</a>\u001b[0m masks, boxes, out_img \u001b[39m=\u001b[39m inference(img, transforms, obj_model, seg_model, out_folder, file_name)\n\u001b[1;32m     <a href='vscode-notebook-cell://ssh-remote%2Brampage.usc.edu/home/jingmin/ARF-svox2/opt/test_with_sam.ipynb#W1sdnNjb2RlLXJlbW90ZQ%3D%3D?line=23'>24</a>\u001b[0m masks \u001b[39m=\u001b[39m masks\u001b[39m.\u001b[39msqueeze()\n\u001b[1;32m     <a href='vscode-notebook-cell://ssh-remote%2Brampage.usc.edu/home/jingmin/ARF-svox2/opt/test_with_sam.ipynb#W1sdnNjb2RlLXJlbW90ZQ%3D%3D?line=24'>25</a>\u001b[0m \u001b[39mprint\u001b[39m(masks\u001b[39m.\u001b[39mshape)\n",
      "File \u001b[0;32m~/ARF-svox2/opt/infer_seg.py:319\u001b[0m, in \u001b[0;36minference\u001b[0;34m(im, transform, model_obj, model_seg, class_id, folder, filename)\u001b[0m\n\u001b[1;32m    315\u001b[0m img \u001b[39m=\u001b[39m transform(im)\u001b[39m.\u001b[39munsqueeze(\u001b[39m0\u001b[39m)\n\u001b[1;32m    316\u001b[0m \u001b[39m# print(\"inside SAM img shape = \", img.shape)\u001b[39;00m\n\u001b[1;32m    317\u001b[0m \n\u001b[1;32m    318\u001b[0m \u001b[39m# propagate through the model\u001b[39;00m\n\u001b[0;32m--> 319\u001b[0m outputs \u001b[39m=\u001b[39m model_obj(img)\n\u001b[1;32m    320\u001b[0m \u001b[39m# dict_keys(['pred_logits', 'pred_boxes'])\u001b[39;00m\n\u001b[1;32m    321\u001b[0m \n\u001b[1;32m    322\u001b[0m \u001b[39m# keep only predictions with 0.7+ confidence\u001b[39;00m\n\u001b[1;32m    323\u001b[0m probas \u001b[39m=\u001b[39m outputs[\u001b[39m\"\u001b[39m\u001b[39mpred_logits\u001b[39m\u001b[39m\"\u001b[39m]\u001b[39m.\u001b[39msoftmax(\u001b[39m-\u001b[39m\u001b[39m1\u001b[39m)[\u001b[39m0\u001b[39m, :, :\u001b[39m-\u001b[39m\u001b[39m1\u001b[39m]\n",
      "File \u001b[0;32m~/anaconda3/envs/arf-svox2/lib/python3.8/site-packages/torch/nn/modules/module.py:1194\u001b[0m, in \u001b[0;36mModule._call_impl\u001b[0;34m(self, *input, **kwargs)\u001b[0m\n\u001b[1;32m   1190\u001b[0m \u001b[39m# If we don't have any hooks, we want to skip the rest of the logic in\u001b[39;00m\n\u001b[1;32m   1191\u001b[0m \u001b[39m# this function, and just call forward.\u001b[39;00m\n\u001b[1;32m   1192\u001b[0m \u001b[39mif\u001b[39;00m \u001b[39mnot\u001b[39;00m (\u001b[39mself\u001b[39m\u001b[39m.\u001b[39m_backward_hooks \u001b[39mor\u001b[39;00m \u001b[39mself\u001b[39m\u001b[39m.\u001b[39m_forward_hooks \u001b[39mor\u001b[39;00m \u001b[39mself\u001b[39m\u001b[39m.\u001b[39m_forward_pre_hooks \u001b[39mor\u001b[39;00m _global_backward_hooks\n\u001b[1;32m   1193\u001b[0m         \u001b[39mor\u001b[39;00m _global_forward_hooks \u001b[39mor\u001b[39;00m _global_forward_pre_hooks):\n\u001b[0;32m-> 1194\u001b[0m     \u001b[39mreturn\u001b[39;00m forward_call(\u001b[39m*\u001b[39;49m\u001b[39minput\u001b[39;49m, \u001b[39m*\u001b[39;49m\u001b[39m*\u001b[39;49mkwargs)\n\u001b[1;32m   1195\u001b[0m \u001b[39m# Do not call functions when jit is used\u001b[39;00m\n\u001b[1;32m   1196\u001b[0m full_backward_hooks, non_full_backward_hooks \u001b[39m=\u001b[39m [], []\n",
      "File \u001b[0;32m~/ARF-svox2/opt/infer_seg.py:279\u001b[0m, in \u001b[0;36mDETRdemo.forward\u001b[0;34m(self, inputs)\u001b[0m\n\u001b[1;32m    277\u001b[0m \u001b[39m# construct positional encodings\u001b[39;00m\n\u001b[1;32m    278\u001b[0m H, W \u001b[39m=\u001b[39m h\u001b[39m.\u001b[39mshape[\u001b[39m-\u001b[39m\u001b[39m2\u001b[39m:]\n\u001b[0;32m--> 279\u001b[0m pos \u001b[39m=\u001b[39m torch\u001b[39m.\u001b[39;49mcat([\n\u001b[1;32m    280\u001b[0m     \u001b[39mself\u001b[39;49m\u001b[39m.\u001b[39;49mcol_embed[:W]\u001b[39m.\u001b[39;49munsqueeze(\u001b[39m0\u001b[39;49m)\u001b[39m.\u001b[39;49mrepeat(H, \u001b[39m1\u001b[39;49m, \u001b[39m1\u001b[39;49m),\n\u001b[1;32m    281\u001b[0m     \u001b[39mself\u001b[39;49m\u001b[39m.\u001b[39;49mrow_embed[:H]\u001b[39m.\u001b[39;49munsqueeze(\u001b[39m1\u001b[39;49m)\u001b[39m.\u001b[39;49mrepeat(\u001b[39m1\u001b[39;49m, W, \u001b[39m1\u001b[39;49m),\n\u001b[1;32m    282\u001b[0m ], dim\u001b[39m=\u001b[39;49m\u001b[39m-\u001b[39;49m\u001b[39m1\u001b[39;49m)\u001b[39m.\u001b[39mflatten(\u001b[39m0\u001b[39m, \u001b[39m1\u001b[39m)\u001b[39m.\u001b[39munsqueeze(\u001b[39m1\u001b[39m)\n\u001b[1;32m    284\u001b[0m \u001b[39m# propagate through the transformer\u001b[39;00m\n\u001b[1;32m    285\u001b[0m h \u001b[39m=\u001b[39m \u001b[39mself\u001b[39m\u001b[39m.\u001b[39mtransformer(pos \u001b[39m+\u001b[39m \u001b[39m0.1\u001b[39m \u001b[39m*\u001b[39m h\u001b[39m.\u001b[39mflatten(\u001b[39m2\u001b[39m)\u001b[39m.\u001b[39mpermute(\u001b[39m2\u001b[39m, \u001b[39m0\u001b[39m, \u001b[39m1\u001b[39m),\n\u001b[1;32m    286\u001b[0m                      \u001b[39mself\u001b[39m\u001b[39m.\u001b[39mquery_pos\u001b[39m.\u001b[39munsqueeze(\u001b[39m1\u001b[39m))\u001b[39m.\u001b[39mtranspose(\u001b[39m0\u001b[39m, \u001b[39m1\u001b[39m)\n",
      "\u001b[0;31mRuntimeError\u001b[0m: Sizes of tensors must match except in dimension 2. Expected size 95 but got size 50 for tensor number 1 in the list."
     ]
    },
    {
     "ename": "",
     "evalue": "",
     "output_type": "error",
     "traceback": [
      "\u001b[1;31m在当前单元格或上一个单元格中执行代码时 Kernel 崩溃。请查看单元格中的代码，以确定故障的可能原因。有关详细信息，请单击 <a href='https://aka.ms/vscodeJupyterKernelCrash'>此处</a>。有关更多详细信息，请查看 Jupyter <a href='command:jupyter.viewOutput'>log</a>。"
     ]
    }
   ],
   "source": [
    "sam_checkpoint = \"sam_vit_h_4b8939.pth\"\n",
    "model_type = \"vit_h\"\n",
    "detr_version = \"detr_resnet50\"\n",
    "img_size = 800\n",
    "\n",
    "folder = \"/home/jingmin/ARF-svox2/data/llff/room/images\"\n",
    "out_folder = \"/home/jingmin/ARF-svox2/out_boxes\"\n",
    "\n",
    "# files = [f for f in listdir(folder) if isfile(join(folder, f))]\n",
    "\n",
    "# files = ['DJI_20200226_143948_113.JPG', 'DJI_20200226_143902_603.JPG', 'DJI_20200226_143939_277.JPG', 'DJI_20200226_143938_168.JPG', 'DJI_20200226_143905_272.JPG', 'DJI_20200226_143906_682.JPG']\n",
    "\n",
    "files = ['DJI_20200226_143948_113.JPG']\n",
    "\n",
    "for file_name in files:\n",
    "    file = os.path.join(folder, file_name)\n",
    "    img = load_images(file)\n",
    "    print(\"Original img size = \", img.size)\n",
    "    transforms = get_transforms(img_size)\n",
    "    obj_model, seg_model = get_models(detr_version, model_type, sam_checkpoint)\n",
    "\n",
    "    masks, boxes, out_img = inference(img, transforms, obj_model, seg_model, out_folder, file_name)\n",
    "\n",
    "    masks = masks.squeeze()\n",
    "    print(masks.shape)\n",
    "    a = torch.nonzero(masks)\n",
    "    print(a.shape)\n",
    "    img = torch.tensor(np.array(img))\n",
    "    print(img.shape)\n",
    "    img = img[a[:, 0], a[:, 1], :]\n",
    "    print(img.shape)"
   ]
  },
  {
   "cell_type": "code",
   "execution_count": null,
   "metadata": {},
   "outputs": [],
   "source": []
  }
 ],
 "metadata": {
  "kernelspec": {
   "display_name": "arf-svox2",
   "language": "python",
   "name": "python3"
  },
  "language_info": {
   "codemirror_mode": {
    "name": "ipython",
    "version": 3
   },
   "file_extension": ".py",
   "mimetype": "text/x-python",
   "name": "python",
   "nbconvert_exporter": "python",
   "pygments_lexer": "ipython3",
   "version": "3.8.8"
  }
 },
 "nbformat": 4,
 "nbformat_minor": 2
}
